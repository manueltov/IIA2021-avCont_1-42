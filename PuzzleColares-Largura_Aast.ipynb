{
 "cells": [
  {
   "cell_type": "markdown",
   "metadata": {
    "colab_type": "text",
    "id": "LekFEsVbua_R"
   },
   "source": [
    "#  Comparação da Procura no Puzzle dos 2 Colares\n",
    "## Teste de Avaliação Contínua nº 1\n",
    "### Introdução à Inteligência Artificial edição 2020/21\n",
    "#### Data limite de entrega: 18 de Dezembro (1m para a meia noite)\n",
    "\n",
    "\n",
    "<img src=\"finalDoisColares.PNG\" alt=\"Drawing\" style=\"width: 250px;\"/>"
   ]
  },
  {
   "cell_type": "markdown",
   "metadata": {},
   "source": [
    "## Contéudo\n",
    "\n",
    "    1. Vamos mostrar um exemplo de implementação em python do puzzle dos 2 colares, verificando que essa formulação está correcta ao submetê-la a um conjunto de testes.\n",
    "    2. Vamos comparar em termos de complexidade temporal e espacial diferentes algoritmos: 3 variantes da largura-primeiro, o greedy e o A* para diferentes configurações iniciais, e usaremos duas heurísticas: h1(x) e h2(x)\n",
    "    3. Será pedido que apenas implementem uma terceira heurística e que comparem o desempenho do A* e Greedy para problemas iniciais a 14 e 16 passos da solução.\n",
    "\n",
    "\n",
    "\n",
    "|     *       |      *      |\n",
    "| ----------- | ----------- |\n",
    "|     Touro no labirinto      |         Formato XXL      |\n",
    "| <img src=\"touro-lab.png\" alt=\"Drawing\" style=\"width: 150px;\"/>  | Esta avaliação tem um formato XXL, especialmente em termos de tempo, com um objectivo pedagógico, em que terão de percorrer o labirinto até encontrar e vencer o Touro, na verdade é só um tourinho.        |"
   ]
  },
  {
   "cell_type": "markdown",
   "metadata": {},
   "source": [
    "## Modelização em Python\n",
    "\n",
    "### Representação dos Estados\n",
    "Vamos representar os estados como tuplos de 2 colares: o primeiro da esquerda e depois o da direita. Os colares serão listas com os símbolos das cores: na posição 0 teremos a cor da bola das 12h e todas as seguintes se sucedem pela ordem horária. Esta modelização dos estados permite lidar só com 2 colares com 20 bolas e com um número de 4 cores: 'e' para encarnado, 'r' para roxo, 'a' para azul e 'v' para verde. \n",
    "\n",
    "Como desejamos usar os algoritmos de procura em grafo, é necessário termos estados *hashable* e como isso não acontece naturalmente com os tuplos com duas listas, teremos de criar uma subclasse de tuple que terá um método associado __hash()__. \n",
    "\n",
    "### Subclasse de Problema\n",
    "#### Informação estática\n",
    "O problema precisa de ter mais informação que é estática, como por exemplo, quais as posições nas listas dos colares com bolas partilhadas. Sabemos que entre dois colares podemos ter duas bolas partilhadas, nos pares de posições (3,17) e (7,13). A bola da posição 3 do colar da esquerda é a mesma que a bola da posição 17 do colar da direita. E a bola da posição 7 do colar da esquerda é a mesma que a bola da posição 13 do colar da direita. Esses pares ficam guardados nos parâmetros **fundo** e **topo**.\n",
    "\n",
    "Guardamos como informação estática também o número de bolas de cada colar: 20 e também uma tabela a indicar a posição de cada colar no tuplo só para mapear as acções nos indices do tuplo que representa o estado.\n",
    "\n",
    "Para testar a validade do estado inicial, no construtor da instância de Problem apenas verificamos se todos os colares têm 20 bolas, se partilham bolas e se existem tantas cores quanto o dobro dos colares e se há 2 cores com 10 bolas e as restantes com 9.\n",
    "\n",
    "#### goal_test()\n",
    "Este método não assume que já conhecemos os estados finais. Assim, testa mesmo se existem em cada um dos colares 2 cores ininterruptas de 10 e de 9 bolas.\n",
    "\n",
    "#### Acções\n",
    "Aas acções são strings \"colar sentido\". O colar pode ser esq ou dir.\n",
    "O sentido pode ser 'h' para horário e 'ah' para anti-horário.\n",
    "\n",
    "    'esq h' quer dizer que rodo no sentido horário o colar da esquerda, o primeiro.\n",
    "\n",
    "Assim, precisamos de um dicionário que indique que o colar esquerdo é o índice 0 do tuplo e o colar direito é o índice 1. Poderíamos ter usado um namedtuple para evitar isso, mas não aconteceu.\n",
    "Notem que o método actions devolve sempre as 4 acções, por esta ordem: \"esq h\",\"esq ah\", \"dir h\",\"dir ah\".\n",
    "\n",
    "#### result()\n",
    "O método **result()** cria uma deepcópia do duplo com as 2 listas, faz o shift circular correspondente à rotação do colar respetivo e depois actualiza as posições de bolas partilhadas na outra lista correspondente ao colar que não roda. \n",
    "\n",
    "#### path_cost()\n",
    "Não é necessário mexer no ***path_cost()***, todos os custos são unitários.\n",
    "\n",
    "#### Display do estado\n",
    "\n",
    "<img src=\"inicialDoisColares.PNG\" alt=\"Drawing\" style=\"width: 250px;\"/>\n",
    "\n",
    "Eis a representação visual do estado correspondente às configurações dos dois colares da figura anterior:\n",
    "\n",
    "Dispomos as duas fitas, a de cima é a do colar esquerdo e a de baixo o do direito. t indica a posição nos dois colares da bola partilhada de topo e f indica a posição partilhada do fundo. \n",
    "\n",
    "      t   f            \n",
    "    vvvvvavvrreeeeeeeeev\n",
    "    aaaaaaarrrrrrvvrrvva\n",
    "                 f   t  \n",
    "\n"
   ]
  },
  {
   "cell_type": "markdown",
   "metadata": {},
   "source": [
    "## A classe Colaris para o estado e a classe PuzzleColares"
   ]
  },
  {
   "cell_type": "code",
   "execution_count": null,
   "metadata": {},
   "outputs": [],
   "source": [
    "from searchPlus import *\n",
    "from collections import namedtuple, Counter\n",
    "from copy import deepcopy\n",
    "import timeit"
   ]
  },
  {
   "cell_type": "code",
   "execution_count": null,
   "metadata": {},
   "outputs": [],
   "source": [
    "\n",
    "\n",
    "class Colaris(tuple):\n",
    "        def __hash__(self):\n",
    "            return hash(str(self))\n",
    "\n",
    "        \n",
    "class PuzzleColares(Problem):\n",
    "    \"\"\"Os dois colares\"\"\"\n",
    "\n",
    "    \n",
    "    def __init__(self, initial=None,goal=None):\n",
    "        \"\"\"Construtor....... que também verifica a validade dos argumentos\n",
    "        Recebe duas listas de cores, (das 12h no sentido horário), um tuplo a indicar quais os índices nas duas listas\n",
    "        da bola partilhada de topo e o mesmo com a de fundo.\n",
    "        terão de ser 4 cores, há 9 bolas com duas das cores e as cores \n",
    "        aparecem em 10 bolas, a bola no topo tem de ser a mesma em ambos \n",
    "        os anéis e o mesmo com a de fundo\n",
    "        Cada anel tem 20 bolas\"\"\"\n",
    "        self.goal = goal\n",
    "        self.initial = initial\n",
    "        esquerda, direita = initial\n",
    "        self.topo=(3,17)\n",
    "        self.fundo=(7,13)\n",
    "        self.anel_index = {\"esq\": 0, \"dir\": 1}\n",
    "        if len(esquerda)!=20:\n",
    "            print('Anel esquerdo com número de bolas diferente de 20')\n",
    "        elif len(direita)!=20:\n",
    "            print('Anel direito com número de bolas diferente de 20')\n",
    "        elif esquerda[self.topo[0]] != direita[self.topo[1]] or esquerda[self.fundo[0]] != direita[self.fundo[1]]:\n",
    "             print(\"Há duas bolas que têm de ser partilhadas\")\n",
    "        else:\n",
    "            contas=Counter(\"\".join(esquerda)+\"\".join(direita))\n",
    "            contas[direita[self.topo[1]]]-=1\n",
    "            contas[direita[self.fundo[1]]]-=1\n",
    "            valores=list(contas.values())\n",
    "            valores.sort()\n",
    "            if valores!=[9,9,10,10]:\n",
    "                print(\"Temos de ter 4 cores com a lista de contas: [9,9,10,10]\")\n",
    "            else:\n",
    "                self.cores={}\n",
    "                for x in contas:\n",
    "                    if contas[x] in self.cores:\n",
    "                        self.cores[contas[x]]+=[x]\n",
    "                    else:\n",
    "                        self.cores[contas[x]] = [x]\n",
    "        \n",
    "    #def validate()\n",
    "    \n",
    "    def result(self, state, action):\n",
    "        \"\"\"The result\"\"\"\n",
    "        (anel, sentido) = tuple(action.split())\n",
    "        index_roda = self.anel_index[anel]\n",
    "        index_outro = (index_roda + 1) % 2\n",
    "        new_state = deepcopy(state)\n",
    "        if sentido == \"h\":\n",
    "            ult = new_state[index_roda].pop()\n",
    "            new_state[index_roda].insert(0,ult)\n",
    "        else:\n",
    "            new_state[index_roda].append(new_state[index_roda][0])\n",
    "            del new_state[index_roda][0]\n",
    "        new_state[index_outro][self.topo[index_outro]]=new_state[index_roda][self.topo[index_roda]]\n",
    "        new_state[index_outro][self.fundo[index_outro]]=new_state[index_roda][self.fundo[index_roda]]\n",
    "        \n",
    "        return new_state\n",
    "    \n",
    "    def actions(self,state):\n",
    "        \"\"\"The actions\"\"\"\n",
    "        return [\"esq h\",\"esq ah\", \"dir h\",\"dir ah\"]\n",
    "    \n",
    "        \n",
    "    \n",
    "    def goal_ring(self,r):\n",
    "        \"The ring r satisfies the goal?\"\n",
    "        rr = r.copy()\n",
    "        while rr[0]==rr[-1]:\n",
    "            rr.insert(0,rr[-1])\n",
    "            del rr[-1]\n",
    "        ss = \"\".join(rr)\n",
    "        #print(\"rodei-rodei:\",ss)\n",
    "        cor10_1,cor10_2 = self.cores[10]\n",
    "        cor9_1, cor9_2 = self.cores[9]\n",
    "        #print(ss.find(cor10_1*10))\n",
    "        #print(ss.find(cor10_2*10))\n",
    "        #print(ss.find(cor9_1*9))\n",
    "        #print(ss.find(cor9_2*9))\n",
    "        return (ss.find(cor10_1*10)!=-1 or ss.find(cor10_2*10)!=-1) and (ss.find(cor9_1*9)!=-1 or ss.find(cor9_2*9)!=-1)\n",
    "    \n",
    "    \n",
    "    def goal_test(self,state):\n",
    "        \"If both the left and right rings satisfy the goal\"\n",
    "        return self.goal_ring(state[0]) and self.goal_ring(state[1])\n",
    "    \n",
    "    def display(self, state):\n",
    "        \"\"\"print the state\"\"\"\n",
    "        header=\"\"\n",
    "        for i in range(len(state[0])):\n",
    "            if i == self.topo[0]:\n",
    "                header+=\"t\"\n",
    "            elif i == self.fundo[0]:\n",
    "                header+='f'\n",
    "            else:\n",
    "                header+=\" \"\n",
    "        print(header)\n",
    "        print(\"\".join(state[0]))\n",
    "        header=\"\"\n",
    "        for i in range(len(state[1])):\n",
    "            if i == self.topo[1]:\n",
    "                header+=\"t\"\n",
    "            elif i == self.fundo[1]:\n",
    "                header+='f'\n",
    "            else:\n",
    "                header+=\" \"\n",
    "        print(\"\".join(state[1]))\n",
    "        print(header)\n",
    "        print(\"\")\n",
    "\n",
    "def executa(p,estado,accoes):\n",
    "    \"\"\" Executa uma sequênco greedyia de acções a partir do estado\n",
    "        devolve um par (estado, custo)\n",
    "    \"\"\"\n",
    "    custo = 0\n",
    "    for a in accoes:\n",
    "        seg = p.result(estado,a)\n",
    "        custo = p.path_cost(custo,estado,a,seg)\n",
    "        estado = seg\n",
    "    return (estado,custo)"
   ]
  },
  {
   "cell_type": "markdown",
   "metadata": {},
   "source": [
    "## Teste da modelização em python"
   ]
  },
  {
   "cell_type": "markdown",
   "metadata": {},
   "source": [
    "Vamos criar um problema válido com dois colares, com 'v' para verde, 'r' para roxo, 'e' para encarnado e 'a' para azul. E vamos mostrar usando o **display()**."
   ]
  },
  {
   "cell_type": "code",
   "execution_count": null,
   "metadata": {},
   "outputs": [],
   "source": [
    "anel_esq= list(\"vvvvvavvrreeeeeeeeev\")\n",
    "anel_dir= list(\"aaaaaaarrrrrrvvrrvva\")\n",
    "p = PuzzleColares(initial=Colaris((anel_esq,anel_dir)))\n",
    "p.display(p.initial)"
   ]
  },
  {
   "cell_type": "markdown",
   "metadata": {},
   "source": [
    "Verifiquemos se é estado final "
   ]
  },
  {
   "cell_type": "code",
   "execution_count": null,
   "metadata": {},
   "outputs": [],
   "source": [
    "p.goal_test(p.initial)"
   ]
  },
  {
   "cell_type": "markdown",
   "metadata": {},
   "source": [
    "e quais as acções possíveis"
   ]
  },
  {
   "cell_type": "code",
   "execution_count": null,
   "metadata": {},
   "outputs": [],
   "source": [
    "p.actions(p.initial)"
   ]
  },
  {
   "cell_type": "markdown",
   "metadata": {},
   "source": [
    "Apliquemos uma acção: a rotação horária do segundo colar"
   ]
  },
  {
   "cell_type": "code",
   "execution_count": null,
   "metadata": {},
   "outputs": [],
   "source": [
    "p.display(p.initial)\n",
    "s1=p.result(p.initial,\"dir h\")\n",
    "print(\"Depois de rodar o colar da direita no sentido horário\")\n",
    "p.display(s1)\n"
   ]
  },
  {
   "cell_type": "markdown",
   "metadata": {},
   "source": [
    "Vamos confirmar que o estado original não mudou com a execução da acção"
   ]
  },
  {
   "cell_type": "code",
   "execution_count": null,
   "metadata": {},
   "outputs": [],
   "source": [
    "p.display(p.initial)"
   ]
  },
  {
   "cell_type": "markdown",
   "metadata": {},
   "source": [
    "Vamos aplicar a s1 a rotação anti-horária do mesmo colar e confirmemos que os estado inicial e o estado que resulta de uma rotação horária do colar da direita seguida de uma rotação anti-horária do mesmo colar são iguais, embora sejam objetos diferentes."
   ]
  },
  {
   "cell_type": "code",
   "execution_count": null,
   "metadata": {},
   "outputs": [],
   "source": [
    "s2=p.result(s1,('dir ah'))\n",
    "s2 == p.initial"
   ]
  },
  {
   "cell_type": "markdown",
   "metadata": {},
   "source": [
    "Criemos uma configuração que satisfaz o estado final"
   ]
  },
  {
   "cell_type": "code",
   "execution_count": null,
   "metadata": {},
   "outputs": [],
   "source": [
    "anel_esq= list(\"vvvvvvvreeeeeeeeevvv\")\n",
    "anel_dir= list(\"aaaaaaarrrrrrrrrrvaa\")\n",
    "sf=Colaris((anel_esq,anel_dir))\n",
    "p.display(sf)\n",
    "print(\"Final?\",p.goal_test(sf))"
   ]
  },
  {
   "cell_type": "markdown",
   "metadata": {},
   "source": [
    "### Problemas Inválidos"
   ]
  },
  {
   "cell_type": "markdown",
   "metadata": {},
   "source": [
    "#### Um dos anéis tem um número diferente de bolas"
   ]
  },
  {
   "cell_type": "code",
   "execution_count": null,
   "metadata": {},
   "outputs": [],
   "source": [
    "anel_esq= list(\"vvvvavvrreeeeeeeeev\")\n",
    "anel_dir= list(\"aaaaaaarrrrrrvvrrvva\")\n",
    "erro = PuzzleColares(initial=(anel_esq,anel_dir))"
   ]
  },
  {
   "cell_type": "markdown",
   "metadata": {},
   "source": [
    "#### Não partilham as bolas correctas"
   ]
  },
  {
   "cell_type": "code",
   "execution_count": null,
   "metadata": {},
   "outputs": [],
   "source": [
    "anel_esq= list(\"vvvvvavvrreeeeeeeeev\")\n",
    "anel_dir= list(\"aaaaaaarrrrrrvvrvrva\")\n",
    "erro = PuzzleColares(initial=Colaris((anel_esq,anel_dir)))"
   ]
  },
  {
   "cell_type": "markdown",
   "metadata": {},
   "source": [
    "#### As cores não são 4 ou não aparecem com o número de bolas correcto"
   ]
  },
  {
   "cell_type": "code",
   "execution_count": null,
   "metadata": {},
   "outputs": [],
   "source": [
    "anel_esq= list(\"vvvvvvvreeeeeeeeevvv\")\n",
    "anel_dir= list(\"aaaaaaarrrrrrrrrvvaa\")\n",
    "erro = PuzzleColares(initial=Colaris((anel_esq,anel_dir)))"
   ]
  },
  {
   "cell_type": "code",
   "execution_count": null,
   "metadata": {},
   "outputs": [],
   "source": [
    "anel_esq= list(\"vvvvvvvreeeeeeeeevvu\")\n",
    "anel_dir= list(\"aaaaaaarrrrrrrrrvvaa\")\n",
    "erro = PuzzleColares(initial=Colaris((anel_esq,anel_dir)))"
   ]
  },
  {
   "cell_type": "markdown",
   "metadata": {},
   "source": [
    "### Teste de Procura de Solução\n",
    "Vamos pegar no estado final de cima e aplicar-lhe uma sequência de algumas acções, não mais de 8 e a partir do estado resultante vamos criar um problema que será objeto do algoritmo de procura, sendo esse estado passado no construtor como estado inicial. Aplicaremos a procura em largura na sua versão em árvore. Se encontrar uma solução, a solução invertida e espelho da sequência usada, então tudo estará ok.\n",
    "\n",
    "Por exemplo, se aplicarmos a sequência:\n",
    "    \n",
    "    'dir ah','dir ah','dir ah','esq h','esq h','esq h', 'dir ah' \n",
    "    \n",
    "ao estado final, o problema a partir do estado resultante terá como solução: \n",
    "\n",
    "    'dir h', 'esq ah', 'esq ah', 'esq ah', 'dir h', 'dir h', 'dir h'"
   ]
  },
  {
   "cell_type": "code",
   "execution_count": null,
   "metadata": {},
   "outputs": [],
   "source": [
    "print(\"Partindo do estado final anterior, vamos executar a seguinte sequência:\")\n",
    "sequencia=['dir ah','dir ah','dir ah','esq h','esq h','esq h', 'dir ah']\n",
    "print(sequencia)\n",
    "print()\n",
    "ne=executa(p,sf,sequencia)\n",
    "p.display(ne[0])\n"
   ]
  },
  {
   "cell_type": "markdown",
   "metadata": {},
   "source": [
    "Vamos criar um novo problema que começa nessa configuração, a x passos do objectivo e vamos aplicar a procura em largura primeiro em árvore."
   ]
  },
  {
   "cell_type": "code",
   "execution_count": null,
   "metadata": {},
   "outputs": [],
   "source": [
    "p.initial=ne[0]\n",
    "resultado=breadth_first_tree_search(p)\n",
    "print(\"Solução Larg-prim (árvore) com custo\", str(resultado.path_cost)+\":\")\n",
    "print(\"Solução:\",resultado.solution())\n",
    "print(\"Profundidade:\",resultado.depth)\n",
    "nu=executa(p,ne[0],resultado.solution())\n",
    "p.goal_test(nu[0])"
   ]
  },
  {
   "cell_type": "markdown",
   "metadata": {},
   "source": [
    "## Comparando os vários algoritmos de largura\n",
    "\n",
    "<img src=\"largura-primeiro-berkeley.PNG\" alt=\"Drawing\" style=\"width: 450px;\"/>\n",
    "\n",
    "Vamos comparar 3 algoritmos de procura em largura-primeiro, em termos de tempo e número de estados expandidos e dos custos de memória:\n",
    "    \n",
    "    Versão em árvore (teste do objectivo quando nó é seleccionado da fronteira e irá ser expandido)\n",
    "    Versão em grafo (teste do objectivo quando nó é seleccionado da fronteira e irá ser expandido)\n",
    "    Versão em grafo optimizada (teste do objetivo, quando se gera um novo nó e não quando vai ser expandido)."
   ]
  },
  {
   "cell_type": "markdown",
   "metadata": {},
   "source": [
    "### Teste do objectivo quando se tenta expandir:\n",
    "Sabemos que no pior caso a complexidade temporal em termos do número de estados expandidos é dependente do factor de ramificação b e da profundidade da solução, d. Com a versão tradicional em que o teste do objectivo é feito quando se tenta expandir o nó, usando a solução fica à profundidade m e na ponta mais à direita da árvore de procura, teremos\n",
    "\n",
    "<img src=\"arvore.PNG\" alt=\"Drawing\" style=\"width: 450px;\"/>\n",
    "\n",
    "Notem que o estado solução nunca é considerado como expandido, daí a subtração por 1 na expressão.\n",
    "\n",
    "No nosso caso, como temos um factor de ramificação de 4, porque temos sempre 4 acções possíveis, teremos um número de expandidos igual a 4<sup>0</sup>+4<sup>1</sup>+4<sup>2</sup>+...+4<sup>d</sup>-1. \n",
    "\n",
    "Notem que a complexidade espacial, dada pelo tamanho da fronteira quando é máxima é 4<sup>m+1</sup>-3. Isto porque quando queremos expandir o estado final, já todos os do seu nível (m) foram expandidos e todos os nós da camada m+1 foram gerados e estarão na fronteira juntamente com o objectivo e excepto os 4 sucessores do objectivo."
   ]
  },
  {
   "cell_type": "markdown",
   "metadata": {},
   "source": [
    "### Teste do objectivo nos sucessores\n",
    "Há uma versão da largura que faz o teste de objectivo não ao nó que se expande mas aos seus sucessores, antecipando o processo de procura. Assim, no pior dos casos, em que a solução estivesse na ponta direita da árvore a uma profundidade m, haverá um nível inteiro de nós que não é necessário expandir, o nível maior, b<sup>m</sup>, dá-se uma enorme redução no número de nós a expandir: 4<sup>0</sup>+4<sup>1</sup>+4<sup>2</sup>+...+4<sup>d-1</sup>-1.\n",
    "\n",
    "<img src=\"arvore2.PNG\" alt=\"Drawing\" style=\"width: 450px;\"/>\n",
    "\n",
    "Notem que a complexidade espacial, dada pelo tamanho da fronteira quando é máxima é 4<sup>m</sup>-3. A subtracção por 3 foi explicada em cima."
   ]
  },
  {
   "cell_type": "markdown",
   "metadata": {},
   "source": [
    "### Versão em grafo\n",
    "Na versão em grafo, guardamos os estados gerados num conjunto e quando expandimos um nó, não geramos nós cujo estados tenham sido já gerados, i.e., pertençam a esse conjunto.\n",
    "\n",
    "Nos problemas em que há muitos \"caminhos que vão dar a Roma\", isto é, em que há diferentes combinações de acções que levam ao mesmo estado e em que na árvore de procura os estados repetem-se com frequência, a versão em grafo é muito útil.\n",
    "É precisamente o caso do puzze dos dois colares em que todas estas sequências de acções levam ao mesmo estado, neste caso ao próprio estado:\n",
    "   \n",
    "    dir h   dir ah\n",
    "    dir ah  dir h\n",
    "    dir ah  dir ah  dir h  dir h\n",
    "    dir ah  dir h  dir ah  dir h\n",
    "    ...\n",
    "    \n",
    "Vamos comparar a versão standard em árvore (teste de objectivo na expansão dos nós) com as 2 versões em grafo (teste de objectivo na expansão dos nós e teste de objectivo na geração dos nós)\n",
    "\n",
    "Vamos ter as seguintes funções que executam a procura e recolhem o número de estados expandidos e do maior tamanho da fronteira ao longo do processo. Devolvem todos triplos em que o primeiro elemento é o nó da solução, o segundo é o número de expandidos e o terceiro é o maior tamanho da fronteira.\n",
    "\n",
    "**breadth_first_tree_search_count()**: Versão em árvore (teste do objectivo quando nó é seleccionado da fronteira e irá ser expandido).\n",
    "\n",
    "**breadth_first_graph_search_count()**: Versão em grafo (teste do objectivo quando nó é seleccionado da fronteira e irá ser expandido).\n",
    "\n",
    "**breadth_first_graph_search_plus_count()**: Versão em grafo optimizada (teste do objetivo, quando se gera um novo nó e não quando vai ser expandido):"
   ]
  },
  {
   "cell_type": "markdown",
   "metadata": {},
   "source": [
    "### O pior caso dos colares\n",
    "No caso dos puzzle dos dois colares a ordem das acções é fixa e a última acção é rodar o colar direito no sentido anti-horário. Por isso, a sequência solução que seja o pior caso (a ponta direita da árvore de procura) a uma profundidade 4 será 'dir ah' 'dir ah' 'dir ah' 'dir ah'. Para criarmos o estado inicial que leva a essa solução pior teremos de aplicar ao estado final conhecido, a sequência inversa e espelho dessa: 'dir h' 'dir h' 'dir h' 'dir h'. E analogamente para o caso de N acções. \n",
    "No entanto, para mais do que 10 movimentos esta forma de gerar os piores casos já não funciona porque 12 movimentos anti-horários podem ser traduzidos por 8 horários.  "
   ]
  },
  {
   "cell_type": "markdown",
   "metadata": {},
   "source": [
    "A função seguinte, gera o estado inicial que devolve a solução correspondente ao pior dos casos a uma profundidade N e aplica o algoritmo alg para procurar a solução e contar.\n",
    "Conta também o tempo e mostra todos os resultados, confirmando que o estado final que encontra é o mesmo que usámos para gerar o estado inicial do problema."
   ]
  },
  {
   "cell_type": "code",
   "execution_count": null,
   "metadata": {},
   "outputs": [],
   "source": [
    "def testa_pior(p,sf,N,alg,funcao_h=None):\n",
    "    \"\"\"Nesta função vamos gerar a solução mais à direita com profundidade N. \n",
    "    A acção 'dir ah' é a última da lista, logo a solução mais à direita com profundidade N é N vezes 'dir ah'.\n",
    "    Pegamos num estado final e aplicamos a sequência de acções espelho dessa: N vezes 'dir h'.\n",
    "    Construímos um problema a partir do estado resultante e aplicamos a procura em largura primeiro em árvore, contando o\n",
    "    tempo que demora e o número de estados expandidos. Como a solução é a mais à direita, a árvore completa é gerada e todos os \n",
    "    estados até ao nível N-1 são expandidos. Para o caso da solução à profundidade 5 expandimos 4^0+4^1+4^2+4^3+4^4\"\"\"\n",
    "    p.initial=executa(p,sf,['dir h']*N)[0]\n",
    "    start = timeit.default_timer()\n",
    "    if funcao_h:\n",
    "        resultado,expanded,max_space=alg(p,funcao_h)\n",
    "    else:\n",
    "        resultado,expanded,max_space=alg(p)\n",
    "    stop = timeit.default_timer()\n",
    "    timeTree = stop-start\n",
    "    print(\"Solução com custo\", str(resultado.path_cost)+\":\")\n",
    "    print(\"Solução:\",resultado.solution())\n",
    "    print(\"Profundidade:\",resultado.depth)\n",
    "    nu=executa(p,p.initial,resultado.solution())\n",
    "    print('TEMPO GASTO:',timeTree)\n",
    "    print('Expandidos:',expanded)\n",
    "    print('Tamanho Máximo da fronteira:',max_space)\n",
    "    print('The same?',sf==nu[0])"
   ]
  },
  {
   "cell_type": "markdown",
   "metadata": {},
   "source": [
    "Vamos então aplicar o **testa_pior()** para a largura-primeiro standard em árvore para o caso da pior solução a uma profundidade 4. Notem que já tínhamos guardado o estado final da figura inicial na variável sf."
   ]
  },
  {
   "cell_type": "code",
   "execution_count": null,
   "metadata": {},
   "outputs": [],
   "source": [
    "testa_pior(p,sf,4,breadth_first_tree_search_count)"
   ]
  },
  {
   "cell_type": "markdown",
   "metadata": {},
   "source": [
    "Podemos confirmar que a soma de potências dá o mesmo número, fazendo uma função que recebe a ramificação e a profundidade e devolve o resultado do número de estados expandidos."
   ]
  },
  {
   "cell_type": "code",
   "execution_count": null,
   "metadata": {},
   "outputs": [],
   "source": [
    "def somaPotencias(ram,prof):\n",
    "    soma=0\n",
    "    out=str(ram)+\"^0\"\n",
    "    for i in range(1,1+prof):\n",
    "        out+=\"+\"+str(ram)+\"^\"+str(i)\n",
    "        soma+=pow(ram,i)\n",
    "    return out+'-1='+str(soma)\n",
    "\n",
    "print('Os expandidos terão de ser',somaPotencias(4,4))\n",
    "print('Os gerados serão 4^5-3=',4**5-3)"
   ]
  },
  {
   "cell_type": "markdown",
   "metadata": {},
   "source": [
    "Para verem como a complexidade temporal e a espacial crescem podemos ver que para uma profundidade de 10 teremos perto de 1 milhão e meio de expandidos..."
   ]
  },
  {
   "cell_type": "code",
   "execution_count": null,
   "metadata": {},
   "outputs": [],
   "source": [
    "print(somaPotencias(4,10))"
   ]
  },
  {
   "cell_type": "markdown",
   "metadata": {},
   "source": [
    "e teremos uma fronteira máxima com um pouco mais de 4 milhões de nós dada por 4<sup>11</sup>-3"
   ]
  },
  {
   "cell_type": "code",
   "execution_count": null,
   "metadata": {},
   "outputs": [],
   "source": [
    "print('Os gerados serão 4^11-3=',4**11-3)"
   ]
  },
  {
   "cell_type": "markdown",
   "metadata": {},
   "source": [
    "### Comparação dos algoritmos de Largura-primeiro para soluções de 7 e 8 acções\n",
    "Comparem os três algoritmos para o pior caso para as sequências de 7 e 8 acções. "
   ]
  },
  {
   "cell_type": "code",
   "execution_count": null,
   "metadata": {},
   "outputs": [],
   "source": [
    "# solução\n",
    "print('\\n Pior à profundidade 7 - largura em árvore')\n",
    "testa_pior(p,sf,7,breadth_first_tree_search_count)\n",
    "print('\\n Pior à profundidade 7 - largura em grafo')\n",
    "testa_pior(p,sf,7,breadth_first_graph_search_count)\n",
    "print('\\n Pior à profundidade 7 - largura em grafo look ahead')\n",
    "testa_pior(p,sf,7,breadth_first_graph_search_plus_count)\n",
    "print('\\n Pior à profundidade 8 - largura em árvore')\n",
    "testa_pior(p,sf,8,breadth_first_tree_search_count)\n",
    "print('\\n Pior à profundidade 8 - largura em grafo')\n",
    "testa_pior(p,sf,8,breadth_first_graph_search_count)\n",
    "print('\\n Pior à profundidade 8 - largura em grafo look ahead')\n",
    "testa_pior(p,sf,8,breadth_first_graph_search_plus_count)"
   ]
  },
  {
   "cell_type": "markdown",
   "metadata": {},
   "source": [
    "### Comparação dos algoritmos para soluções de 9 e 10 acções\n",
    "Comparem os dois algoritmos de largura-primeiro em grafo para o pior caso para a sequência de 9 e de 10 acções. Não vamos utilizar a versão em árvore porque \"it is too much\"!"
   ]
  },
  {
   "cell_type": "code",
   "execution_count": null,
   "metadata": {},
   "outputs": [],
   "source": [
    "print('\\n Pior à profundidade 9 - largura em grafo')\n",
    "testa_pior(p,sf,9,breadth_first_graph_search_count)\n",
    "print('\\n Pior à profundidade 9 - largura em grafo look ahead')\n",
    "testa_pior(p,sf,9,breadth_first_graph_search_plus_count)\n",
    "print('\\n Pior à profundidade 10 - largura em grafo')\n",
    "testa_pior(p,sf,10,breadth_first_graph_search_count)\n",
    "print('\\n Pior à profundidade 10 - largura em grafo look ahead')\n",
    "testa_pior(p,sf,10,breadth_first_graph_search_plus_count)"
   ]
  },
  {
   "cell_type": "markdown",
   "metadata": {},
   "source": [
    "## Greedy, A* e heurísticas"
   ]
  },
  {
   "cell_type": "markdown",
   "metadata": {},
   "source": [
    "Vamos usar como heurística uma função que conta o número de sequências ininterruptas em ambos os colares e que subtrai 6. Notem que a solução tem 3 sequências em cada colar."
   ]
  },
  {
   "cell_type": "markdown",
   "metadata": {},
   "source": [
    "### Função heurística h1()\n",
    "Implementem a função heurística a que podem chamar de **h1()**. Tradicionalmente convém colocar a função heurística dentro da classe, como um dos seus métodos. Por uma questão de não mexer na classe e para uma avaliação automática deste desafio não o vamos fazer."
   ]
  },
  {
   "cell_type": "code",
   "execution_count": null,
   "metadata": {},
   "outputs": [],
   "source": [
    "# solução\n",
    "\n",
    "def h1(no):\n",
    "    def num_seq(lista):\n",
    "        out = 1\n",
    "        pre = lista[0]\n",
    "        for x in lista[1:]:\n",
    "            if x != pre:\n",
    "                out+=1\n",
    "            pre=x\n",
    "        if lista[0]==lista[-1]:\n",
    "            out-=1\n",
    "        return out\n",
    "\n",
    "    esquerdo,direito=no.state\n",
    "    return num_seq(esquerdo)+num_seq(direito)-6\n",
    "\n"
   ]
  },
  {
   "cell_type": "markdown",
   "metadata": {},
   "source": [
    "### Teste de h1()\n",
    "Testem esta função heurística no puzzle da imagem a seguir:\n",
    "\n",
    "<img src=\"inicialDoisColares.PNG\" alt=\"Drawing\" style=\"width: 250px;\"/>"
   ]
  },
  {
   "cell_type": "code",
   "execution_count": null,
   "metadata": {},
   "outputs": [],
   "source": [
    "anel_esq= list(\"vvvvvavvrreeeeeeeeev\")\n",
    "anel_dir= list(\"aaaaaaarrrrrrvvrrvva\")\n",
    "estado=Colaris((anel_esq,anel_dir))\n",
    "p=PuzzleColares(estado)\n",
    "print('Heurística do estado:',h1(Node(estado)))"
   ]
  },
  {
   "cell_type": "markdown",
   "metadata": {},
   "source": [
    "A função em baixo aplica um algoritmo heurístico (alg) e a sua função heurística (funcao_h) a uma situação do tipo pior caso, gerada a partir de N rotações horárias do colar da direita. Devolve a solução, o tempo da procura e o número de expandidos. "
   ]
  },
  {
   "cell_type": "markdown",
   "metadata": {},
   "source": [
    "### Comparando o Greedy e o A*, usando h1(), para o pior caso a 10 de distância\n",
    "Usem a função **testa_pior()** para o Greedy-melhor-primeiro e o A* nas suas versões em grafo e de recolha de dados da procura, respectivamente **astar_search_count()** e **greedy_best_first_graph_search_count()**, usando a função heurística **h1()** para o worst case de 10 acções."
   ]
  },
  {
   "cell_type": "code",
   "execution_count": null,
   "metadata": {},
   "outputs": [],
   "source": [
    "print('\\n Pior à profundidade 10 - A* em grafo (h1)')\n",
    "testa_pior(p,sf,10,astar_search_count,h1)\n",
    "print('\\n Pior à profundidade 10 - Greedy em grafo (h1)')\n",
    "testa_pior(p,sf,10,greedy_best_first_graph_search_count,h1)"
   ]
  },
  {
   "cell_type": "markdown",
   "metadata": {},
   "source": [
    "Notem que o Greedy esteve fantástico com esta heurística para os estados iniciais a 9 e 10 aplicando sempre rotações horárias a partir do estado final. O A* também esteve muito bem comparado com as Larguras."
   ]
  },
  {
   "cell_type": "markdown",
   "metadata": {},
   "source": [
    "### Gerando problemas através da aplicação de sequências de acções a partir do estado final"
   ]
  },
  {
   "cell_type": "markdown",
   "metadata": {},
   "source": [
    "A função seguinte aplica uma sequência de acções ao estado (sf) e depois constrói um problema com o estado inicial resultante, aplicando o algoritmo de procura alg."
   ]
  },
  {
   "cell_type": "code",
   "execution_count": null,
   "metadata": {},
   "outputs": [],
   "source": [
    "def testa_seq(p,sf,accoes,alg,funcao_h=None):\n",
    "    \"\"\"\"\"\"\n",
    "    p.initial=executa(p,sf,accoes)[0]\n",
    "    start = timeit.default_timer()\n",
    "    if funcao_h:\n",
    "        resultado,expanded,max_space=alg(p,funcao_h)\n",
    "    else:\n",
    "        resultado,expanded,max_space=alg(p)\n",
    "    stop = timeit.default_timer()\n",
    "    timeTree = stop-start\n",
    "    print(\"Solução com custo\", str(resultado.path_cost)+\":\")\n",
    "    print(\"Solução:\",resultado.solution())\n",
    "    print(\"Profundidade:\",resultado.depth)\n",
    "    nu=executa(p,p.initial,resultado.solution())\n",
    "    print('TEMPO GASTO:',timeTree)\n",
    "    print('Expandidos:',expanded)\n",
    "    print('Tamanho Máximo da fronteira:',max_space)\n",
    "    print('Atingimos o mesmo final?',sf==nu[0])"
   ]
  },
  {
   "cell_type": "markdown",
   "metadata": {},
   "source": [
    "###### Vamos comparar os algoritmos de procura em largura em grafo com o A* e Greedy para soluções de tamanho 12 geradas a partir do estado final (que temos usado) após aplicação das seguintes acções:\n",
    "\n",
    "```python\n",
    "['esq ah', 'esq ah', 'dir ah', 'esq h', 'dir ah', 'dir ah', 'dir ah', 'dir ah', 'dir ah', 'esq h', 'dir h', 'esq ah']\n",
    "```\n",
    "Não vale a pena fazer a procura em largura na sua variante árvore e teste de objectivo na expansão porque o número de estados expandidos seria muito elevada. Notem que como a solução está a uma profundidade de 12, isso quer dizer que pelo menos todo o nível de 11 tem de ser expandido (5,592404 milhões de nós) e no pior caso termos de expandir todos menos 1 do nível 12 (22,369620 milhões de nós). É claro que a sequência de acções não é a pior possível, e sendo assim, o número de expandidos ficará entre esses dois valores. Se fosse a pior possível o número de nós gerados seria de 67,108863 milhões, mas não é o caso, ficando por um valor entre 22,4 e 67,1 milhões."
   ]
  },
  {
   "cell_type": "code",
   "execution_count": null,
   "metadata": {},
   "outputs": [],
   "source": [
    "print('Os expandidos terão de ser mais do que ',somaPotencias(4,11),'e menos do que ',somaPotencias(4,12))\n",
    "\n",
    "print('Os gerados terão de ser mais do que  4^12-3=',4**12-3,'e menos do que  4^13-3=',4**13-3)"
   ]
  },
  {
   "cell_type": "markdown",
   "metadata": {},
   "source": [
    "### Comparação de problema a 12 passos da solução"
   ]
  },
  {
   "cell_type": "markdown",
   "metadata": {},
   "source": [
    "Comecemos por comparar as larguras em grafo para duas sequências à distância de 12 da solução:"
   ]
  },
  {
   "cell_type": "code",
   "execution_count": null,
   "metadata": {},
   "outputs": [],
   "source": [
    "accoes12 = ['esq ah', 'esq ah', 'dir ah', 'esq h', 'dir ah', 'dir ah', 'dir ah', 'dir ah', 'dir ah', 'esq h', 'dir h', 'esq ah']\n",
    "print('\\n Pior à profundidade 12 - largura em grafo')\n",
    "testa_seq(p,sf,accoes12,breadth_first_graph_search_count)\n",
    "print('\\n Pior à profundidade 12 - largura em grafo look ahead')\n",
    "testa_seq(p,sf,accoes12,breadth_first_graph_search_plus_count)"
   ]
  },
  {
   "cell_type": "markdown",
   "metadata": {},
   "source": [
    "Comparemos com o A* com h1() para a mesma configuração a 12 passos:"
   ]
  },
  {
   "cell_type": "code",
   "execution_count": null,
   "metadata": {},
   "outputs": [],
   "source": [
    "print('\\n Solução à profundidade 12 - A* em grafo (h1)')\n",
    "testa_seq(p,sf,accoes12,astar_search_count,h1)"
   ]
  },
  {
   "cell_type": "markdown",
   "metadata": {},
   "source": [
    "E o Greedy? Vamos tentar, mas um pouco desconfiados vamos dar um limite de tempo para o fazer: 300s, ou seja, 5m. Para isso vamos usar funções do módulo *func_timeout*. Atenção que talvez tenham que instalar o módulo *func_timeout*, escrevendo *pip func_timeout* no *anaconda prompt*, que podem encontrar na lupa do windows."
   ]
  },
  {
   "cell_type": "code",
   "execution_count": null,
   "metadata": {},
   "outputs": [],
   "source": [
    "print('\\n Solução à profundidade 12 - Greedy em grafo (h1)')\n",
    "from func_timeout import func_timeout, FunctionTimedOut\n",
    "\n",
    "try:\n",
    "    ReturnedValue = func_timeout(300, testa_seq, args=(p,sf,accoes12,greedy_best_first_graph_search_count,h1))\n",
    "except FunctionTimedOut:\n",
    "    ReturnedValue='Ui UI Não tenho mais paciência!'\n",
    "    print('Não encontrámos a solução em 300s')\n",
    "ReturnedValue "
   ]
  },
  {
   "cell_type": "markdown",
   "metadata": {},
   "source": [
    "### Soluções a 13 passos"
   ]
  },
  {
   "cell_type": "markdown",
   "metadata": {},
   "source": [
    "Vamos agora comparar as duas variantes da procura em largura-primeiro em grafo com o A*  para soluções de tamanho 13 geradas a partir do estado final após aplicação das seguintes acções:\n",
    "\n",
    "```python\n",
    "['esq h', 'dir ah', 'dir ah', 'esq h', 'esq h', 'esq h', 'esq h', 'dir ah', 'dir ah', 'esq h', 'dir h', 'esq ah', 'esq ah']\n",
    "```"
   ]
  },
  {
   "cell_type": "code",
   "execution_count": null,
   "metadata": {},
   "outputs": [],
   "source": [
    "accoes13 =['esq h', 'dir ah', 'dir ah', 'esq h', 'esq h', 'esq h', 'esq h', 'dir ah', 'dir ah', 'esq h', 'dir h', 'esq ah', 'esq ah']\n",
    "print('\\n Pior à profundidade 13 - largura em grafo')\n",
    "testa_seq(p,sf,accoes13,breadth_first_graph_search_count)\n",
    "print('\\n Pior à profundidade 13 - largura em grafo look ahead')\n",
    "testa_seq(p,sf,accoes13,breadth_first_graph_search_plus_count)"
   ]
  },
  {
   "cell_type": "markdown",
   "metadata": {},
   "source": [
    "Já não arriscamos usar o Greedy devido ao falhanço com soluções de 12 acções em menos de 5m. Apliquemos apenas o A*."
   ]
  },
  {
   "cell_type": "code",
   "execution_count": null,
   "metadata": {},
   "outputs": [],
   "source": [
    "print('\\n Solução à profundidade 13 - A* em grafo (h1)')\n",
    "testa_seq(p,sf,accoes13,astar_search_count,h1)"
   ]
  },
  {
   "cell_type": "markdown",
   "metadata": {},
   "source": [
    "O A* não deu a solução óptima.  A solução devolvida é de tamanho 15 e não 13 que foi a que resultou da procura em largura que é optimal neste problema de custos homogéneos. O A* demorou mais tempo também, embora tenha expandido muito menos nós. Surpreendidos?"
   ]
  },
  {
   "cell_type": "markdown",
   "metadata": {},
   "source": [
    "### h1() é consistente?\n",
    "A heurística referida não pode ser consistente pois essa propriedade era garantia da optimalidade! Porque é que não é consistente?"
   ]
  },
  {
   "cell_type": "markdown",
   "metadata": {},
   "source": [
    "Sabemos que se não é admissível também não é consistente. Provemos então que não é admissível e que por derivação não é também consistente.\n",
    "\n",
    "Não é admissível porque podemos num só movimento atingir o objectivo numa situação em que o valor heurístico é de 2.\n",
    "Eis o exemplo do estado final que tem 0 de valor heuristico:"
   ]
  },
  {
   "cell_type": "markdown",
   "metadata": {},
   "source": [
    "Confirmemos a sua não admissibilidade e também a não consistência."
   ]
  },
  {
   "cell_type": "code",
   "execution_count": null,
   "metadata": {},
   "outputs": [],
   "source": [
    "# Confirmação da não admissibilidade e da não consistência\n",
    "\n",
    "p.display(sf)\n",
    "print('Heurística?',h1(Node(sf)))"
   ]
  },
  {
   "cell_type": "markdown",
   "metadata": {},
   "source": [
    "Vamos aplicar-lhe uma acção: 'dir h'\n",
    "\n",
    "Obtemos um estado que está à distância de 1 acção do objectivo: a rotação espelho de 'dir h', i.e., 'dir ah', mas o seu valor heurístico é de 2, violando a admissibilidade.\n",
    "\n"
   ]
  },
  {
   "cell_type": "code",
   "execution_count": null,
   "metadata": {},
   "outputs": [],
   "source": [
    "print('Depois de aplicarmos a rotação horária do colar direito')\n",
    "x=p.result(sf,'dir h')\n",
    "p.display(x)\n",
    "print('Heurística?',h1(Node(x)))"
   ]
  },
  {
   "cell_type": "markdown",
   "metadata": {},
   "source": [
    "A heurística do estado x é 2, sendo na realidade a menor distância apenas de uma acção (sobrestimando o menor custo ao objectivo), por isso não admissível; \n",
    "\n",
    "Poderíamos atacar logo a falha na consistência.\n",
    "\n",
    "Para o mesmo estado sf e x, h1(x)-h1(sf)=2 e o custo entre x e sf é apenas de uma acção, violando a consistência."
   ]
  },
  {
   "cell_type": "markdown",
   "metadata": {},
   "source": [
    "### Segunda função heurística h2(x)=h1(x)/2\n",
    "Vamos dividir a função h1(x) por 2. Esta é admissível e consistente. Na verdade, quando rodamos um colar, esse colar não muda em termos do número de sequências ininterruptas. O outro colar é que pode mudar e na melhor das hipóteses, 3 sequências interrompidas nas bolas partilhadas podem transformar-se numa só sequência, no melhor dos casos, podendo haver no máximo uma diminuição de 2 sequências em ambos os colares (um não muda), o que quer dizer que devemos dividir h1(x) por 2 (3-1)."
   ]
  },
  {
   "cell_type": "code",
   "execution_count": null,
   "metadata": {},
   "outputs": [],
   "source": [
    "def h2(no):\n",
    "    return h1(no)/2\n",
    "    \n",
    "anel_esq= list(\"vvvvvavvrreeeeeeeeev\")\n",
    "anel_dir= list(\"aaaaaaarrrrrrvvrrvva\")\n",
    "p = PuzzleColares(initial=Colaris((anel_esq,anel_dir)))"
   ]
  },
  {
   "cell_type": "markdown",
   "metadata": {},
   "source": [
    "Vamos então verificar se encontra a solução óptima para a solução das 13 acções usada em cima. "
   ]
  },
  {
   "cell_type": "code",
   "execution_count": null,
   "metadata": {},
   "outputs": [],
   "source": [
    "print('\\n Solução à profundidade 13 - A* em grafo (h2)')\n",
    "testa_seq(p,sf,accoes13,astar_search_count,h2)"
   ]
  },
  {
   "cell_type": "markdown",
   "metadata": {},
   "source": [
    "Na verdade, encontrámos a solução óptima mas o A* continua a demorar muito mais tempo a encontrá-la do que as duas versões da largura primeiro, e expandindo muito menos nós. Porque será?\n",
    "Achamos que deve ser porque o teste de estados que se encontram na fronteira é caro computacionalmente, por ser feito numa lista, ao contrário do teste de expandidos, e a fronteira pode ser enorme. Soma-se a isso o custo de calcular o valor heurístico e a inserção dos nós na lista de prioridades que é a fronteira."
   ]
  },
  {
   "cell_type": "markdown",
   "metadata": {},
   "source": [
    "### Soluções a 14 passos"
   ]
  },
  {
   "cell_type": "markdown",
   "metadata": {},
   "source": [
    "Avancemos para a comparação de soluções a 14 passos... mas apenas com a largura porque o A* mostrou ser pouco eficiente."
   ]
  },
  {
   "cell_type": "code",
   "execution_count": null,
   "metadata": {},
   "outputs": [],
   "source": [
    "accoes14 =['esq h', 'dir ah', 'dir ah', 'esq h', 'esq h', 'esq h', 'esq h', 'dir ah', 'dir ah', 'esq h', 'dir h', 'esq ah', 'esq ah','esq ah']\n",
    "print('\\n Pior à profundidade 14 - largura em grafo')\n",
    "testa_seq(p,sf,accoes14,breadth_first_graph_search_count)\n",
    "print('\\n Pior à profundidade 14 - largura em grafo look ahead')\n",
    "testa_seq(p,sf,accoes14,breadth_first_graph_search_plus_count)\n",
    "# testa_seq(p,sf,accoes14,astar_search_count,h2)"
   ]
  },
  {
   "cell_type": "markdown",
   "metadata": {},
   "source": [
    "## Exercício\n",
    "Implemente a seguinte heurística: devolve a soma para cada colar da seguinte função: 10-tamanho-maior + 9 - tamanho-segunda-maior.\n",
    "tamanho_maior e tamanho-segunda-maior são respetivamente o tamanho da maior e da segunda maior sequências ininterruptas de cores no colar.\n",
    "No caso da solução final teremos em cada colar 10-10+9-9=0 e ambos colares 0+0=0.\n",
    "Testa-a para os estados que resultam de aplicar as 14 e as 16 acções seguintes ao estado final sf:\n",
    "\n",
    "```python\n",
    "\n",
    "accoes14=['esq h', 'dir ah', 'dir ah', 'esq h', 'esq h', 'esq h', 'esq h', 'dir ah', 'dir ah', 'esq h', 'dir h', 'esq ah', 'esq ah','esq ah']\n",
    "accoes16=['dir h', 'dir h',  'dir h', 'esq h', 'dir ah', 'esq ah', 'dir ah', 'esq ah', 'dir ah', 'esq h', 'esq h', 'dir ah', 'esq h', 'dir h', 'esq h', 'dir h']\n",
    "```\n",
    "\n",
    "e depois aplica os algoritmos do A* com a contagem do tempo, dos expandidos e do maior tamanho da fronteira."
   ]
  },
  {
   "cell_type": "code",
   "execution_count": null,
   "metadata": {},
   "outputs": [],
   "source": [
    "# h3\n",
    "\n",
    "\n"
   ]
  },
  {
   "cell_type": "markdown",
   "metadata": {},
   "source": [
    "# Prazo de Entrega\n",
    "\n",
    "Final do semestre, último dia de aulas, 18 de Dezembro à meia noite menos 1 m."
   ]
  },
  {
   "cell_type": "markdown",
   "metadata": {},
   "source": [
    "# Submissão\n",
    "A informação sobre o processo de submissão sairá muito em breve."
   ]
  }
 ],
 "metadata": {
  "colab": {
   "collapsed_sections": [],
   "name": "Untitled0.ipynb",
   "provenance": [],
   "version": "0.3.2"
  },
  "kernelspec": {
   "display_name": "Python 3",
   "language": "python",
   "name": "python3"
  },
  "language_info": {
   "codemirror_mode": {
    "name": "ipython",
    "version": 3
   },
   "file_extension": ".py",
   "mimetype": "text/x-python",
   "name": "python",
   "nbconvert_exporter": "python",
   "pygments_lexer": "ipython3",
   "version": "3.7.0"
  }
 },
 "nbformat": 4,
 "nbformat_minor": 2
}
